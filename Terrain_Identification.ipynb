{
 "cells": [
  {
   "cell_type": "markdown",
   "metadata": {},
   "source": [
    "# Terrain Identification\n",
    "\n"
   ]
  },
  {
   "cell_type": "code",
   "execution_count": 12,
   "metadata": {},
   "outputs": [],
   "source": [
    "## Necessary imports"
   ]
  },
  {
   "cell_type": "code",
   "execution_count": null,
   "metadata": {},
   "outputs": [],
   "source": [
    "# Uncomment this cell to install libraries if missing on your system\n",
    "\n",
    "# !pip install tensorflow\n",
    "# !pip install pandas\n",
    "# !pip install matplotlib\n",
    "# !pip install seaborn\n",
    "# !pip install h5py\n",
    "# !pip install scikit-learn\n",
    "# !pip install glob2"
   ]
  },
  {
   "cell_type": "code",
   "execution_count": 1,
   "metadata": {},
   "outputs": [],
   "source": [
    "# Installing Libraries\n",
    "\n",
    "import pandas as pd\n",
    "import matplotlib.pyplot as plt\n",
    "import seaborn as sns\n",
    "from sklearn.model_selection import train_test_split\n",
    "import glob\n",
    "from sklearn.preprocessing import RobustScaler\n",
    "from scipy import stats\n",
    "import numpy as np\n",
    "import h5py\n",
    "import tensorflow as tf\n",
    "from tensorflow import keras\n",
    "from tensorflow.keras.models import model_from_json"
   ]
  },
  {
   "cell_type": "markdown",
   "metadata": {},
   "source": [
    "## Data Preprocessing APIs"
   ]
  },
  {
   "cell_type": "code",
   "execution_count": 2,
   "metadata": {},
   "outputs": [],
   "source": [
    "def get_raw_data(xfile, yfile):\n",
    "    \"\"\"Takes input x and y files and matches the dimensions by extrapolating y data\n",
    "    \n",
    "    This API reads the provided data csv files and creates an output dataframe that is of\n",
    "    size = 4 * dimension(y). The extra data instances at the end of the x files are discarded.\n",
    "     \n",
    "    Arguments:\n",
    "    1. x_files: x sensor data csv\n",
    "    2. y_files: y label corresponding to each data csv\n",
    "    \"\"\"\n",
    "    check_df_y = pd.read_csv(yfile)\n",
    "    check_df_x = pd.read_csv(xfile)\n",
    "    \n",
    "    new_labels = []\n",
    "    for i in check_df_y.iterrows():\n",
    "        new_labels += [i[1][0]] * 4\n",
    "    \n",
    "    new_labels = pd.DataFrame(new_labels)\n",
    "    diff = check_df_x.shape[0] - new_labels.shape[0]\n",
    "    check_df_x = check_df_x.iloc[:-diff,:]\n",
    "    \n",
    "    return check_df_x, new_labels"
   ]
  },
  {
   "cell_type": "code",
   "execution_count": 3,
   "metadata": {},
   "outputs": [],
   "source": [
    "def compose_series_data(x_files, y_files, time_steps = 40, step = 1):\n",
    "    \"\"\"Takes input as x and y files and creates windowed training instances suitable for BiLSTM model\n",
    "    \n",
    "    This API takes in x and y csv files, creates raw data with equal x and y dimensions. Then it\n",
    "    creates windows from the x and y data. \n",
    "    \n",
    "    Arguments:\n",
    "    1. x_files: x sensor data csv\n",
    "    2. y_files: y label corresponding to each data csv\n",
    "    3. time_steps: defines the window size. maximum labels (mode) for a window is kept as the\n",
    "        output label for that windowed training instance\n",
    "    4. step: defines the instances to skip before starting the next window\n",
    "    \n",
    "    Returns:\n",
    "    1. stacked windowed training instances from all the files \n",
    "        (Dimension = [total-windows] X [time-steps] X [6])\n",
    "    2. stacked y labels for the corresponding above windowed training instances\n",
    "        (Dimension = [total-windows] X [1])\n",
    "    \"\"\"\n",
    "    \n",
    "    all_x = []\n",
    "    all_y = []\n",
    "    # create a series from all the subjects\n",
    "    for i in range(len(y_files)):\n",
    "        # get x-y balanced data, basically removed the extra values in x\n",
    "        X, y = get_raw_data(x_files[i], y_files[i])\n",
    "        \n",
    "        # scale data\n",
    "        X = scale_data(X, list(X.columns.values))\n",
    "        # create series data for this file\n",
    "        X, y = create_dataset_with_mode_labels(X, y, time_steps = time_steps, step = step)\n",
    "        \n",
    "        all_x.append(X)\n",
    "        all_y.append(y)\n",
    "    return np.concatenate(all_x), np.concatenate(all_y)"
   ]
  },
  {
   "cell_type": "code",
   "execution_count": 4,
   "metadata": {},
   "outputs": [],
   "source": [
    "def scale_data(df_data, scale_columns):\n",
    "    \"\"\"Scale the input data to make it robust to variation\n",
    "    \n",
    "    This API takes in the raw input data and scales it using RobustScaler\n",
    "    \"\"\"\n",
    "    scaler = RobustScaler()\n",
    "    scaler = scaler.fit(df_data[scale_columns])\n",
    "\n",
    "    df_data.loc[:, scale_columns] = scaler.transform(df_data[scale_columns].to_numpy())\n",
    "    return df_data"
   ]
  },
  {
   "cell_type": "code",
   "execution_count": 5,
   "metadata": {},
   "outputs": [],
   "source": [
    "def create_dataset_with_mode_labels(X, y, time_steps=1, step=1):\n",
    "    \"\"\"Takes in X and y data and creates windows of time-series\n",
    "    \"\"\"\n",
    "    Xs, ys = [], []\n",
    "    for i in range(0, len(X) - time_steps, step):\n",
    "        v = X.iloc[i:(i + time_steps)].values\n",
    "        labels = y.iloc[i: i + time_steps]\n",
    "        Xs.append(v)\n",
    "        ys.append(stats.mode(labels)[0][0])\n",
    "    return np.array(Xs), np.array(ys).reshape(-1, 1)"
   ]
  },
  {
   "cell_type": "code",
   "execution_count": 6,
   "metadata": {},
   "outputs": [],
   "source": [
    "def create_dataset(X, label, time_steps = 40, step = 1):\n",
    "    Xs, ys = [], []\n",
    "    for i in range(0, len(X) - time_steps, step):\n",
    "        v = X.iloc[i:(i + time_steps)].values\n",
    "        Xs.append(v)        \n",
    "        ys.append(label)\n",
    "    return np.array(Xs), np.array(ys).reshape(-1, 1)"
   ]
  },
  {
   "cell_type": "markdown",
   "metadata": {},
   "source": [
    "## Data Preprocessing\n",
    "\n",
    "1. Divide the input files into train, validate and test sets.\n",
    "2. Create windowed time-series input instances"
   ]
  },
  {
   "cell_type": "code",
   "execution_count": 7,
   "metadata": {},
   "outputs": [],
   "source": [
    "all_y_files = sorted(glob.glob('Data/TrainingData/subject_???_??__y.csv'))\n",
    "all_x_files = sorted(glob.glob('Data/TrainingData/subject_???_??__x.csv'))\n",
    "\n",
    "test_y_files = [\"Data/TrainingData/subject_002_03__y.csv\", \"Data/TrainingData/subject_001_04__y.csv\"]\n",
    "test_x_files = [\"Data/TrainingData/subject_002_03__x.csv\", \"Data/TrainingData/subject_001_04__x.csv\"]\n",
    "\n",
    "val_y_files = [\"Data/TrainingData/subject_003_02__y.csv\", \"Data/TrainingData/subject_007_04__y.csv\"]\n",
    "val_x_files = [\"Data/TrainingData/subject_003_02__x.csv\", \"Data/TrainingData/subject_007_04__x.csv\"]\n",
    "\n",
    "# subtract the files that are in test and val\n",
    "train_y_files = sorted(list(set(all_y_files) ^ set(test_y_files + val_y_files)))\n",
    "train_x_files = sorted(list(set(all_x_files) ^ set(test_x_files + val_x_files)))"
   ]
  },
  {
   "cell_type": "code",
   "execution_count": 8,
   "metadata": {},
   "outputs": [],
   "source": [
    "TIME_STEPS = 60\n",
    "STEP = 1"
   ]
  },
  {
   "cell_type": "code",
   "execution_count": 9,
   "metadata": {},
   "outputs": [
    {
     "name": "stdout",
     "output_type": "stream",
     "text": [
      "(1149648, 60, 6) (1149648, 1)\n",
      "(86524, 60, 6) (86524, 1)\n",
      "(103624, 60, 6) (103624, 1)\n"
     ]
    }
   ],
   "source": [
    "X_train, y_train = compose_series_data(train_x_files, train_y_files, time_steps = TIME_STEPS, step = STEP)\n",
    "X_val, y_val = compose_series_data(val_x_files, val_y_files, time_steps = TIME_STEPS, step = STEP)\n",
    "X_test, y_test = compose_series_data(test_x_files, test_y_files, time_steps = TIME_STEPS, step = STEP)\n",
    "\n",
    "print(X_train.shape, y_train.shape)\n",
    "print(X_val.shape, y_val.shape)\n",
    "print(X_test.shape, y_test.shape)\n"
   ]
  },
  {
   "cell_type": "markdown",
   "metadata": {},
   "source": [
    "### Find out class weights since the input data is not balanced.\n",
    "\n",
    "This information is then used by the model while training which samples the data more from the under-represented classes. This way, we perform implicit data balancing"
   ]
  },
  {
   "cell_type": "code",
   "execution_count": 10,
   "metadata": {},
   "outputs": [
    {
     "name": "stdout",
     "output_type": "stream",
     "text": [
      "[0.33436796 6.24225181 4.4045116  1.60760251]\n"
     ]
    },
    {
     "name": "stderr",
     "output_type": "stream",
     "text": [
      "/opt/conda/lib/python3.7/site-packages/sklearn/utils/validation.py:70: FutureWarning: Pass classes=[0 1 2 3], y=[0 0 0 ... 0 0 0] as keyword args. From version 0.25 passing these as positional arguments will result in an error\n",
      "  FutureWarning)\n"
     ]
    },
    {
     "data": {
      "text/plain": [
       "{0: 0.334367961580701,\n",
       " 1: 6.242251808092435,\n",
       " 2: 4.404511600821405,\n",
       " 3: 1.6076025125431388}"
      ]
     },
     "execution_count": 10,
     "metadata": {},
     "output_type": "execute_result"
    }
   ],
   "source": [
    "from sklearn.utils import class_weight\n",
    "class_weights = class_weight.compute_class_weight('balanced',\n",
    "                                                 np.unique(y_train),\n",
    "                                                 y_train.ravel())\n",
    "print(class_weights)\n",
    "class_weights = {i:class_weights[i] for i in range(len(class_weights))}\n",
    "class_weights"
   ]
  },
  {
   "cell_type": "markdown",
   "metadata": {},
   "source": [
    "### Convert input labels to one-hot encoding"
   ]
  },
  {
   "cell_type": "code",
   "execution_count": 11,
   "metadata": {},
   "outputs": [],
   "source": [
    "from sklearn.preprocessing import OneHotEncoder\n",
    "\n",
    "enc = OneHotEncoder(handle_unknown='ignore', sparse=False)\n",
    "enc = enc.fit(y_train)\n",
    "\n",
    "y_train = enc.transform(y_train)\n",
    "y_test = enc.transform(y_test)\n",
    "y_val = enc.transform(y_val)"
   ]
  },
  {
   "cell_type": "markdown",
   "metadata": {},
   "source": [
    "## Create and train model"
   ]
  },
  {
   "cell_type": "code",
   "execution_count": 13,
   "metadata": {},
   "outputs": [],
   "source": [
    "# save the model\n",
    "# note the time steps\n",
    "model_save_dir = \"final_models\"\n",
    "model_name = \"model_BiLSTM_ts%d_s%d\"%(TIME_STEPS, STEP)"
   ]
  },
  {
   "cell_type": "code",
   "execution_count": 14,
   "metadata": {},
   "outputs": [],
   "source": [
    "## Model architecture\n",
    "\n",
    "model = keras.Sequential()\n",
    "model.add(\n",
    "    keras.layers.Bidirectional(\n",
    "      keras.layers.LSTM(\n",
    "          units=128, \n",
    "          input_shape=[X_train.shape[1], X_train.shape[2]]\n",
    "      )\n",
    "    )\n",
    ")\n",
    "model.add(keras.layers.Dropout(rate=0.5))\n",
    "model.add(keras.layers.Dense(units=128, activation='relu'))\n",
    "model.add(keras.layers.Dense(y_train.shape[1], activation='softmax'))\n",
    "model.compile(loss='categorical_crossentropy', optimizer='adam', metrics=['acc'])"
   ]
  },
  {
   "cell_type": "code",
   "execution_count": 15,
   "metadata": {},
   "outputs": [
    {
     "name": "stdout",
     "output_type": "stream",
     "text": [
      "WARNING:tensorflow:sample_weight modes were coerced from\n",
      "  ...\n",
      "    to  \n",
      "  ['...']\n",
      "WARNING:tensorflow:sample_weight modes were coerced from\n",
      "  ...\n",
      "    to  \n",
      "  ['...']\n",
      "Train on 1149648 samples, validate on 86524 samples\n",
      "Epoch 1/10\n",
      "1149648/1149648 [==============================] - 110s 96us/sample - loss: 0.1585 - acc: 0.9066 - val_loss: 0.1088 - val_acc: 0.9214\n",
      "Epoch 2/10\n",
      "1149648/1149648 [==============================] - 108s 94us/sample - loss: 0.0653 - acc: 0.9583 - val_loss: 0.1499 - val_acc: 0.9439\n",
      "Epoch 3/10\n",
      "1149648/1149648 [==============================] - 116s 101us/sample - loss: 0.0436 - acc: 0.9719 - val_loss: 0.1619 - val_acc: 0.9630\n",
      "Epoch 4/10\n",
      "1149648/1149648 [==============================] - 117s 101us/sample - loss: 0.0319 - acc: 0.9797 - val_loss: 0.1790 - val_acc: 0.9507\n",
      "Epoch 5/10\n",
      "1149648/1149648 [==============================] - 117s 102us/sample - loss: 0.0255 - acc: 0.9839 - val_loss: 0.2095 - val_acc: 0.9608\n",
      "Epoch 6/10\n",
      "1149648/1149648 [==============================] - 117s 101us/sample - loss: 0.0215 - acc: 0.9864 - val_loss: 0.2309 - val_acc: 0.9549\n",
      "Epoch 7/10\n",
      "1149648/1149648 [==============================] - 115s 100us/sample - loss: 0.0189 - acc: 0.9882 - val_loss: 0.1879 - val_acc: 0.9536\n",
      "Epoch 8/10\n",
      "1149648/1149648 [==============================] - 116s 101us/sample - loss: 0.0165 - acc: 0.9897 - val_loss: 0.2283 - val_acc: 0.9585\n",
      "Epoch 9/10\n",
      "1149648/1149648 [==============================] - 116s 101us/sample - loss: 0.0150 - acc: 0.9906 - val_loss: 0.2477 - val_acc: 0.9526\n",
      "Epoch 10/10\n",
      "1149648/1149648 [==============================] - 114s 99us/sample - loss: 0.0141 - acc: 0.9913 - val_loss: 0.2333 - val_acc: 0.9426\n"
     ]
    }
   ],
   "source": [
    "callback = tf.keras.callbacks.EarlyStopping(monitor='loss', patience=3)\n",
    "\n",
    "history = model.fit(\n",
    "    X_train, y_train,\n",
    "    epochs=10,\n",
    "    batch_size=128,\n",
    "    validation_data=(X_val,y_val),\n",
    "    class_weight=class_weights,\n",
    "    shuffle=True\n",
    ")"
   ]
  },
  {
   "cell_type": "markdown",
   "metadata": {},
   "source": [
    "### Checkout training metrics"
   ]
  },
  {
   "cell_type": "code",
   "execution_count": 47,
   "metadata": {},
   "outputs": [
    {
     "data": {
      "image/png": "[encoded data removed]",
      "text/plain": [
       "<Figure size 576x432 with 2 Axes>"
      ]
     },
     "metadata": {
      "needs_background": "light"
     },
     "output_type": "display_data"
    }
   ],
   "source": [
    "## Plots for Training and Validation\n",
    "\n",
    "fig, axs = plt.subplots(2)\n",
    "fig.suptitle('Training and Validation Loss/Accuracy')\n",
    "axs[0].plot(history.history['loss'], label='train_loss')\n",
    "axs[0].plot(history.history['val_loss'], label='val_loss')\n",
    "\n",
    "axs[1].plot(history.history['acc'], label='train_acc')\n",
    "axs[1].plot(history.history['val_acc'], label='val_acc')\n",
    "\n",
    "axs[0].legend()\n",
    "axs[1].legend()\n",
    "fig.set_size_inches(8,6)\n",
    "#plt.savefig(model_save_dir + \"/\" + model_name + \"_accval.png\", dpi=100)"
   ]
  },
  {
   "cell_type": "markdown",
   "metadata": {},
   "source": [
    "### Evaluate the model on the test set and checkout final metrics"
   ]
  },
  {
   "cell_type": "code",
   "execution_count": 17,
   "metadata": {},
   "outputs": [
    {
     "name": "stdout",
     "output_type": "stream",
     "text": [
      "103624/103624 [==============================] - 19s 184us/sample - loss: 0.3352 - acc: 0.9446\n"
     ]
    },
    {
     "data": {
      "text/plain": [
       "[0.3352050053681722, 0.9446364]"
      ]
     },
     "execution_count": 17,
     "metadata": {},
     "output_type": "execute_result"
    }
   ],
   "source": [
    "model.evaluate(X_test, y_test)"
   ]
  },
  {
   "cell_type": "code",
   "execution_count": 18,
   "metadata": {},
   "outputs": [],
   "source": [
    "y_pred = model.predict(X_test)"
   ]
  },
  {
   "cell_type": "code",
   "execution_count": 30,
   "metadata": {},
   "outputs": [
    {
     "name": "stdout",
     "output_type": "stream",
     "text": [
      "              precision    recall  f1-score   support\n",
      "\n",
      "           0       0.96      0.96      0.96     75760\n",
      "           1       0.93      0.93      0.93      6134\n",
      "           2       0.92      0.92      0.92      5506\n",
      "           3       0.87      0.88      0.88     16224\n",
      "\n",
      "    accuracy                           0.94    103624\n",
      "   macro avg       0.92      0.92      0.92    103624\n",
      "weighted avg       0.94      0.94      0.94    103624\n",
      "\n"
     ]
    }
   ],
   "source": [
    "print(classification_report(enc.inverse_transform(y_test), enc.inverse_transform(y_pred)))"
   ]
  },
  {
   "cell_type": "markdown",
   "metadata": {},
   "source": [
    "## Save the model for future"
   ]
  },
  {
   "cell_type": "code",
   "execution_count": 22,
   "metadata": {},
   "outputs": [],
   "source": [
    "def save_model(model, name):\n",
    "    model_json = model.to_json()\n",
    "    with open(\"%s.json\"%(name), \"w\") as json_file:\n",
    "        json_file.write(model_json)\n",
    "    model.save_weights(\"%s.hdf5\"%(name))"
   ]
  },
  {
   "cell_type": "code",
   "execution_count": 23,
   "metadata": {},
   "outputs": [],
   "source": [
    "def get_model(name):\n",
    "    json_file = open('%s.json'%(name), 'r')\n",
    "    loaded_model_json = json_file.read()\n",
    "    json_file.close()\n",
    "    loaded_model = model_from_json(loaded_model_json)\n",
    "    loaded_model.load_weights(\"%s.hdf5\"%(name))\n",
    "    model = loaded_model\n",
    "    return model"
   ]
  },
  {
   "cell_type": "code",
   "execution_count": 24,
   "metadata": {},
   "outputs": [],
   "source": [
    "save_model(model, model_save_dir + \"/\" + model_name)"
   ]
  },
  {
   "cell_type": "markdown",
   "metadata": {},
   "source": [
    "## Generate the output for leaderboard test dataset"
   ]
  },
  {
   "cell_type": "code",
   "execution_count": 18,
   "metadata": {},
   "outputs": [
    {
     "name": "stdout",
     "output_type": "stream",
     "text": [
      "['Data/TestData/subject_009_01__x.csv', 'Data/TestData/subject_010_01__x.csv', 'Data/TestData/subject_011_01__x.csv', 'Data/TestData/subject_012_01__x.csv'] ['Data/TestData/subject_009_01__y_time.csv', 'Data/TestData/subject_010_01__y_time.csv', 'Data/TestData/subject_011_01__y_time.csv', 'Data/TestData/subject_012_01__y_time.csv']\n"
     ]
    }
   ],
   "source": [
    "files=sorted(glob.glob('Data/TestData/subject_???_??__x.csv'))\n",
    "files\n",
    "\n",
    "y_files=sorted(glob.glob('Data/TestData/subject_???_??__y_time.csv'))\n",
    "print(files,y_files)\n"
   ]
  },
  {
   "cell_type": "code",
   "execution_count": 62,
   "metadata": {},
   "outputs": [],
   "source": [
    "def majority_vote(y):\n",
    "    y_out = []\n",
    "    for i in range(0, y.shape[0], 4):\n",
    "        a = list(y[i:i+4])\n",
    "        y_out.append(max(a, key=a.count))\n",
    "    return np.array(y_out)"
   ]
  },
  {
   "cell_type": "code",
   "execution_count": 16,
   "metadata": {},
   "outputs": [],
   "source": [
    "predictions_dir = \"./\"\n",
    "TEST_TIME_STEPS = TIME_STEPS\n",
    "TEST_STEP = 1"
   ]
  },
  {
   "cell_type": "code",
   "execution_count": 11,
   "metadata": {},
   "outputs": [],
   "source": [
    "to_save_filenames = [\"subject_009_01__y_prediction.csv\", \"subject_010_01__y_prediction.csv\", \"subject_011_01__y_prediction.csv\", \"subject_012_01__y_prediction.csv\"]\n",
    "\n",
    "for i in range(len(files)):\n",
    "    # read x values\n",
    "    df = pd.read_csv(files[i],header=None)\n",
    "    # scale x values\n",
    "    df = scale_data(df, list(df.columns.values))\n",
    "    # read y values\n",
    "    y_df = pd.read_csv(y_files[i],header=None)\n",
    "    print(y_df.shape)\n",
    "    \n",
    "    # pad x values according to the expected y values\n",
    "    to_add = y_df.shape[0] * 4 - df.shape[0] + TIME_STEPS\n",
    "    to_add_df = pd.DataFrame(df.iloc[-to_add:])\n",
    "    df = df.append(to_add_df)\n",
    "    \n",
    "    # create windowed dataset\n",
    "    X_test, y_test = create_dataset(df, 0, TEST_TIME_STEPS, TEST_STEP)\n",
    "    \n",
    "    # run model\n",
    "    y_test = model.predict(X_test)\n",
    "    \n",
    "    # convert one-hot to integer class labels\n",
    "    y_test_int = np.argmax(y_test, axis=1)\n",
    "    \n",
    "    # reduce the class size by a factor of 4 by taking majority vote\n",
    "    # from a window of 4 elements\n",
    "    y_actual = majority_vote(y_test_int)\n",
    "    \n",
    "    print(y_actual.size)\n",
    "    \n",
    "    # convert into series to export to csv\n",
    "    y_series = pd.Series(y_actual)\n",
    "    y_series.to_csv(predictions_dir + \"/\" + to_save_filenames[i])"
   ]
  },
  {
   "cell_type": "markdown",
   "metadata": {},
   "source": [
    "# Final Results on Leaderboard\n",
    "## F1-Score: 0.876"
   ]
  }
 ],
 "metadata": {
  "environment": {
   "name": "tf2-gpu.2-1.m58",
   "type": "gcloud",
   "uri": "gcr.io/deeplearning-platform-release/tf2-gpu.2-1:m58"
  },
  "kernelspec": {
   "display_name": "Python 3",
   "language": "python",
   "name": "python3"
  },
  "language_info": {
   "codemirror_mode": {
    "name": "ipython",
    "version": 3
   },
   "file_extension": ".py",
   "mimetype": "text/x-python",
   "name": "python",
   "nbconvert_exporter": "python",
   "pygments_lexer": "ipython3",
   "version": "3.7.6"
  }
 },
 "nbformat": 4,
 "nbformat_minor": 4
}
